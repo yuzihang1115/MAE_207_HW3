{
 "cells": [
  {
   "cell_type": "code",
   "execution_count": 1,
   "metadata": {},
   "outputs": [],
   "source": [
    "import robot\n",
    "import time"
   ]
  },
  {
   "cell_type": "code",
   "execution_count": 2,
   "metadata": {},
   "outputs": [
    {
     "name": "stdout",
     "output_type": "stream",
     "text": [
      "Connected!\n"
     ]
    }
   ],
   "source": [
    "leg = robot.Leg()"
   ]
  },
  {
   "cell_type": "code",
   "execution_count": 3,
   "metadata": {},
   "outputs": [
    {
     "data": {
      "text/plain": [
       "<bound method Leg.get_joint_pos of <robot.leg.Leg object at 0x0000023B4137B1D0>>"
      ]
     },
     "execution_count": 3,
     "metadata": {},
     "output_type": "execute_result"
    }
   ],
   "source": [
    "leg.get_joint_pos"
   ]
  },
  {
   "cell_type": "code",
   "execution_count": 3,
   "metadata": {},
   "outputs": [],
   "source": [
    "leg.set_joint_pos((3.1415926/2),(2*3.1415926/2),0,0,0,0)"
   ]
  },
  {
   "cell_type": "code",
   "execution_count": 26,
   "metadata": {},
   "outputs": [],
   "source": [
    "#this can accumulate the spring energy\n",
    "import time\n",
    "time.sleep(1)\n",
    "a=3.1415926/180\n",
    "\n",
    "leg.set_joint_pos(15*a,165*a,0,0,-6,6)\n",
    "time.sleep(1)\n",
    "leg.set_joint_pos(85*a,95*a,0,0,6,-6)\n",
    "time.sleep(0.15)\n",
    "\n",
    "leg.set_joint_pos(15*a,165*a,0,0,-6,6)\n",
    "time.sleep(0.9)\n",
    "leg.set_joint_pos(85*a,95*a,0,0,6,-6)\n",
    "time.sleep(0.2)\n",
    "\n",
    "leg.set_joint_pos(15*a,165*a,0,0,-6,6)\n",
    "time.sleep(0.9)\n",
    "leg.set_joint_pos(80*a,100*a,0,0,6,-6)\n",
    "time.sleep(0.25)\n",
    "\n",
    "leg.set_joint_pos(15*a,165*a,0,0,-6,6)\n",
    "time.sleep(0.9)\n",
    "leg.set_joint_pos(80*a,100*a,0,0,6,-6)\n",
    "time.sleep(0.25)\n",
    "\n",
    "leg.set_joint_pos(15*a,165*a,0,0,-6,6)\n",
    "time.sleep(1)\n",
    "leg.set_joint_pos(85*a,95*a,0,0,6,-6)\n",
    "time.sleep(0.3)"
   ]
  },
  {
   "cell_type": "code",
   "execution_count": 2,
   "metadata": {},
   "outputs": [
    {
     "data": {
      "image/jpeg": "[encoded data removed]",
      "text/html": [
       "\n",
       "        <iframe\n",
       "            width=\"400\"\n",
       "            height=\"300\"\n",
       "            src=\"https://www.youtube.com/embed/v-vHw31XK6g\"\n",
       "            frameborder=\"0\"\n",
       "            allowfullscreen\n",
       "        ></iframe>\n",
       "        "
      ],
      "text/plain": [
       "<IPython.lib.display.YouTubeVideo at 0x1c5508dbfd0>"
      ]
     },
     "execution_count": 2,
     "metadata": {},
     "output_type": "execute_result"
    }
   ],
   "source": [
    "from IPython.lib.display import YouTubeVideo\n",
    "\n",
    "YouTubeVideo('v-vHw31XK6g')"
   ]
  },
  {
   "cell_type": "code",
   "execution_count": null,
   "metadata": {},
   "outputs": [],
   "source": []
  }
 ],
 "metadata": {
  "kernelspec": {
   "display_name": "Python 3",
   "language": "python",
   "name": "python3"
  },
  "language_info": {
   "codemirror_mode": {
    "name": "ipython",
    "version": 3
   },
   "file_extension": ".py",
   "mimetype": "text/x-python",
   "name": "python",
   "nbconvert_exporter": "python",
   "pygments_lexer": "ipython3",
   "version": "3.6.4"
  }
 },
 "nbformat": 4,
 "nbformat_minor": 2
}
